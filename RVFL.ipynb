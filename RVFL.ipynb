{
 "cells": [
  {
   "cell_type": "code",
   "execution_count": 133,
   "metadata": {},
   "outputs": [],
   "source": [
    "import numpy as np\n",
    "import scipy.special as spe\n",
    "from math import sqrt"
   ]
  },
  {
   "cell_type": "markdown",
   "metadata": {},
   "source": [
    "Import Diabetes Dataset For Regression Testing"
   ]
  },
  {
   "cell_type": "code",
   "execution_count": 137,
   "metadata": {},
   "outputs": [],
   "source": [
    "import sklearn.datasets as sd\n",
    "import sklearn.model_selection as sm\n",
    "import sklearn.preprocessing as sp\n",
    "\n",
    "std = sp.MinMaxScaler(feature_range=(0,1))\n",
    "\n",
    "dataset = sd.load_diabetes()\n",
    "X = std.fit_transform(dataset[\"data\"])\n",
    "T = dataset[\"target\"].reshape(-1,1)\n",
    "\n",
    "X1, X2, T1, T2 = sm.train_test_split(X, T, test_size=0.2, random_state=42)"
   ]
  },
  {
   "cell_type": "markdown",
   "metadata": {},
   "source": [
    "RVFL Functions"
   ]
  },
  {
   "cell_type": "code",
   "execution_count": 135,
   "metadata": {},
   "outputs": [],
   "source": [
    "def generateNodes(lmbda, n_feature, n_nodes):\n",
    "    W = lmbda * (2 * np.random.rand(n_feature, n_nodes) - 1)\n",
    "    b = lmbda * (2 * np.random.rand(1, n_nodes) - 1)\n",
    "    return W, b\n",
    "    \n",
    "def activationFunc(X, W, b):\n",
    "    return spe.expit(X @ W + b)\n",
    "\n",
    "def combineD(H, X):\n",
    "    return np.concatenate([np.ones_like(X[:,0:1]), H, X], axis=1)\n",
    "\n",
    "def calcBeta(D, T, n_nodes, n_sample):\n",
    "    return np.linalg.pinv(D) @ T\n",
    "\n",
    "def predict(Beta, X, D, T):\n",
    "    Y = D @ Beta\n",
    "    resErr = Y - T\n",
    "    return resErr, Y\n",
    "\n",
    "def calcRMSE(resErr, n_sample):\n",
    "    return sqrt(np.sum(np.sum(resErr ** 2, axis=0) / n_sample, axis=0))\n"
   ]
  },
  {
   "cell_type": "markdown",
   "metadata": {},
   "source": [
    "Training Phase"
   ]
  },
  {
   "cell_type": "code",
   "execution_count": 435,
   "metadata": {},
   "outputs": [
    {
     "name": "stdout",
     "output_type": "stream",
     "text": [
      "(361, 1)\n",
      "RMSE Score: 5.6864\n"
     ]
    }
   ],
   "source": [
    "# Define parameters\n",
    "n_nodes = 350\n",
    "lmbdas = 20\n",
    "n_sample, n_feature = X1.shape\n",
    "\n",
    "W, b = generateNodes(lmbdas, n_feature, n_nodes)\n",
    "\n",
    "H = activationFunc(X1, W, b)\n",
    "\n",
    "D = combineD(H, X1)\n",
    "\n",
    "Beta = calcBeta(D, T1, n_nodes, n_sample)\n",
    "\n",
    "resErr, Y = predict(Beta, X1, D, T1)\n",
    "\n",
    "score = calcRMSE(resErr, n_sample)\n",
    "\n",
    "print(f\"RMSE Score: {score:.4f}\")"
   ]
  }
 ],
 "metadata": {
  "kernelspec": {
   "display_name": "pytorch-mps",
   "language": "python",
   "name": "python3"
  },
  "language_info": {
   "codemirror_mode": {
    "name": "ipython",
    "version": 3
   },
   "file_extension": ".py",
   "mimetype": "text/x-python",
   "name": "python",
   "nbconvert_exporter": "python",
   "pygments_lexer": "ipython3",
   "version": "3.8.17"
  }
 },
 "nbformat": 4,
 "nbformat_minor": 2
}
